{
  "nbformat": 4,
  "nbformat_minor": 0,
  "metadata": {
    "colab": {
      "provenance": [],
      "authorship_tag": "ABX9TyOTR1yVpiHbUhFpAkw/Iu/X",
      "include_colab_link": true
    },
    "kernelspec": {
      "name": "python3",
      "display_name": "Python 3"
    },
    "language_info": {
      "name": "python"
    }
  },
  "cells": [
    {
      "cell_type": "markdown",
      "metadata": {
        "id": "view-in-github",
        "colab_type": "text"
      },
      "source": [
        "<a href=\"https://colab.research.google.com/github/geosword/devclub-weaviate/blob/main/weaviate.ipynb\" target=\"_parent\"><img src=\"https://colab.research.google.com/assets/colab-badge.svg\" alt=\"Open In Colab\"/></a>"
      ]
    },
    {
      "cell_type": "code",
      "source": [
        "!pip install openai==0.28.0 weaviate-client langchain langchain-community pypdf"
      ],
      "metadata": {
        "id": "cyjgJkCdKC0G",
        "collapsed": true
      },
      "execution_count": null,
      "outputs": []
    },
    {
      "cell_type": "code",
      "source": [
        "from IPython.display import HTML, display\n",
        "\n",
        "def set_css():\n",
        "    display(HTML('''\n",
        "    <style>\n",
        "    pre {\n",
        "        white-space: pre-wrap;\n",
        "    }\n",
        "    </style>\n",
        "    '''))\n",
        "\n",
        "get_ipython().events.register('pre_run_cell', set_css)\n"
      ],
      "metadata": {
        "id": "rqrSmBnU-ij4"
      },
      "execution_count": null,
      "outputs": []
    },
    {
      "cell_type": "code",
      "source": [
        "import openai\n",
        "import os\n",
        "from google.colab import userdata\n",
        "from typing import List, Optional\n",
        "import weaviate\n",
        "import datetime\n",
        "import json\n",
        "from weaviate.auth import Auth\n",
        "from weaviate.util import generate_uuid5\n",
        "from weaviate.classes.query import Filter\n",
        "import weaviate.classes as wvc\n",
        "from langchain_community.document_loaders import PyPDFLoader, Docx2txtLoader, TextLoader, UnstructuredURLLoader"
      ],
      "metadata": {
        "id": "VELXYcqBBxf0"
      },
      "execution_count": null,
      "outputs": []
    },
    {
      "cell_type": "code",
      "source": [
        "def call_gpt4(system_prompt, user_prompt, chunks=None):\n",
        "    openai.api_key = os.getenv(\"OPENAI_API_KEY\", userdata.get('OPENAI_API_KEY'))\n",
        "    if not openai.api_key:\n",
        "        raise ValueError(\"OpenAI API key not found. Set the OPENAI_API_KEY environment variable.\")\n",
        "\n",
        "    messages = [\n",
        "        {\"role\": \"system\", \"content\": system_prompt},\n",
        "        {\"role\": \"user\", \"content\": user_prompt}\n",
        "    ]\n",
        "\n",
        "    # Add chunks if provided\n",
        "    if chunks:\n",
        "        all_chunks = \"---------\\n\".join(chunks)\n",
        "        messages.append({\"role\": \"system\", \"content\": f\"Use the following context to answer the question <Context>{all_chunks}</Context>\"})\n",
        "\n",
        "    print(json.dumps(messages, indent=4))\n",
        "    response = openai.ChatCompletion.create(\n",
        "        model=\"gpt-4-1106-preview\",\n",
        "        messages=messages\n",
        "    )\n",
        "    return response['choices'][0]['message']['content']"
      ],
      "metadata": {
        "id": "IJvJUwheKCyD",
        "colab": {
          "base_uri": "https://localhost:8080/",
          "height": 17
        },
        "outputId": "e758a857-a956-4068-d972-0f7cf02d5797"
      },
      "execution_count": null,
      "outputs": [
        {
          "output_type": "display_data",
          "data": {
            "text/plain": [
              "<IPython.core.display.HTML object>"
            ],
            "text/html": [
              "\n",
              "    <style>\n",
              "    pre {\n",
              "        white-space: pre-wrap;\n",
              "    }\n",
              "    </style>\n",
              "    "
            ]
          },
          "metadata": {}
        },
        {
          "output_type": "display_data",
          "data": {
            "text/plain": [
              "<IPython.core.display.HTML object>"
            ],
            "text/html": [
              "\n",
              "    <style>\n",
              "    pre {\n",
              "        white-space: pre-wrap;\n",
              "    }\n",
              "    </style>\n",
              "    "
            ]
          },
          "metadata": {}
        }
      ]
    },
    {
      "cell_type": "code",
      "source": [
        "def init_pdf_collection(client: weaviate.Client, collection_name: str) -> None:\n",
        "    documents = client.collections.delete(collection_name)\n",
        "\n",
        "    documents= client.collections.create(\n",
        "        name=collection_name,\n",
        "        vectorizer_config=wvc.config.Configure.Vectorizer.text2vec_openai(),    # Set the vectorizer to \"text2vec-openai\" to use the OpenAI API for vector-related operations\n",
        "        # https://weaviate.io/developers/weaviate/config-refs/datatypes\n",
        "        properties=[\n",
        "            wvc.config.Property(\n",
        "                name=\"content\",\n",
        "                data_type=wvc.config.DataType.TEXT,\n",
        "                vectorize_property_name=True,\n",
        "                tokenization=wvc.config.Tokenization.LOWERCASE\n",
        "            ),\n",
        "            wvc.config.Property(\n",
        "                name=\"date\",\n",
        "                data_type=wvc.config.DataType.DATE,\n",
        "                vectorize_property_name=False  # Include the property name (\"question\") when vectorizin\n",
        "            ),\n",
        "            wvc.config.Property(\n",
        "                name=\"page_number\",\n",
        "                data_type=wvc.config.DataType.INT,\n",
        "                vectorize_property_name=False  # Include the property name (\"question\") when vectorizin\n",
        "            ),\n",
        "            wvc.config.Property(\n",
        "                name=\"total_pages\",\n",
        "                data_type=wvc.config.DataType.INT,\n",
        "                vectorize_property_name=False  # Include the property name (\"question\") when vectorizin\n",
        "            ),\n",
        "            wvc.config.Property(\n",
        "                name=\"file_path\",\n",
        "                data_type=wvc.config.DataType.TEXT,\n",
        "                vectorize_property_name=True  # Include the property name (\"question\") when vectorizin\n",
        "            ),\n",
        "            wvc.config.Property(\n",
        "                name=\"chunk_number\",\n",
        "                data_type=wvc.config.DataType.INT,\n",
        "                vectorize_property_name=False  # Include the property name (\"question\") when vectorizin\n",
        "            ),\n",
        "            wvc.config.Property(\n",
        "                name=\"total_chunks\",\n",
        "                data_type=wvc.config.DataType.INT,\n",
        "                vectorize_property_name=False  # Include the property name (\"question\") when vectorizin\n",
        "            )\n",
        "\n",
        "            # https://weaviate.io/developers/weaviate/config-refs/datatypes\n",
        "        ]\n",
        "    )"
      ],
      "metadata": {
        "id": "4SNBHLWNFEHD",
        "colab": {
          "base_uri": "https://localhost:8080/",
          "height": 17
        },
        "outputId": "9d216f74-89bd-440f-ab3c-914d2f978268"
      },
      "execution_count": null,
      "outputs": [
        {
          "output_type": "display_data",
          "data": {
            "text/plain": [
              "<IPython.core.display.HTML object>"
            ],
            "text/html": [
              "\n",
              "    <style>\n",
              "    pre {\n",
              "        white-space: pre-wrap;\n",
              "    }\n",
              "    </style>\n",
              "    "
            ]
          },
          "metadata": {}
        },
        {
          "output_type": "display_data",
          "data": {
            "text/plain": [
              "<IPython.core.display.HTML object>"
            ],
            "text/html": [
              "\n",
              "    <style>\n",
              "    pre {\n",
              "        white-space: pre-wrap;\n",
              "    }\n",
              "    </style>\n",
              "    "
            ]
          },
          "metadata": {}
        }
      ]
    },
    {
      "cell_type": "code",
      "source": [
        "def ingest(file_path, collection):\n",
        "    # Define the file path and metadata\n",
        "\n",
        "    # Process the PDF file asynchronously\n",
        "    documents = load_pdf(file_path)\n",
        "\n",
        "    # Output the processed documents\n",
        "    for i,doc in enumerate(documents):\n",
        "        pagenumber = i\n",
        "        chunks = chunk_text(doc.page_content)\n",
        "        # Store chunks in Weaviate\n",
        "        for j,chunk in enumerate(chunks):\n",
        "            print(f'Processing {file_path} page {i+1} chunk {j+1} of {len(chunks)}')\n",
        "            data_object = {\n",
        "                \"date\": datetime.datetime.now().strftime(\"%Y-%m-%dT%H:%M:%S.%fZ\"),\n",
        "                \"content\": chunk,\n",
        "                \"page_number\": pagenumber,\n",
        "                \"file_path\": file_path,\n",
        "                \"total_pages\": len(documents),\n",
        "                \"chunk_number\": j,\n",
        "                \"total_chunks\": len(chunks)\n",
        "            }\n",
        "            collection.data.insert(data_object)"
      ],
      "metadata": {
        "id": "mAEEL8jqsQrm",
        "colab": {
          "base_uri": "https://localhost:8080/",
          "height": 17
        },
        "outputId": "07393a90-cb37-4090-c6f5-18b1b52b7246"
      },
      "execution_count": null,
      "outputs": [
        {
          "output_type": "display_data",
          "data": {
            "text/plain": [
              "<IPython.core.display.HTML object>"
            ],
            "text/html": [
              "\n",
              "    <style>\n",
              "    pre {\n",
              "        white-space: pre-wrap;\n",
              "    }\n",
              "    </style>\n",
              "    "
            ]
          },
          "metadata": {}
        },
        {
          "output_type": "display_data",
          "data": {
            "text/plain": [
              "<IPython.core.display.HTML object>"
            ],
            "text/html": [
              "\n",
              "    <style>\n",
              "    pre {\n",
              "        white-space: pre-wrap;\n",
              "    }\n",
              "    </style>\n",
              "    "
            ]
          },
          "metadata": {}
        }
      ]
    },
    {
      "cell_type": "code",
      "source": [
        "def get_weaviate_client() -> weaviate.Client:\n",
        "    \"\"\"\n",
        "    Get a Weaviate client instance.\n",
        "\n",
        "    Returns:\n",
        "        weaviate.Client: The Weaviate client instance\n",
        "    \"\"\"\n",
        "    weaviate_url = userdata.get('WEAVIATE_URL')\n",
        "    api_key = userdata.get('WEAVIATE_API_KEY')\n",
        "    openai_key = userdata.get('OPENAI_API_KEY')\n",
        "\n",
        "    client = weaviate.connect_to_weaviate_cloud(\n",
        "                    cluster_url=weaviate_url,\n",
        "                    auth_credentials=Auth.api_key(api_key),\n",
        "                    headers={'X-OpenAI-Api-key': openai_key}\n",
        "                )\n",
        "    return client"
      ],
      "metadata": {
        "id": "91W8HVprCIBg",
        "colab": {
          "base_uri": "https://localhost:8080/",
          "height": 17
        },
        "outputId": "54d31381-4b89-46f7-ba39-b967f8c855e7"
      },
      "execution_count": null,
      "outputs": [
        {
          "output_type": "display_data",
          "data": {
            "text/plain": [
              "<IPython.core.display.HTML object>"
            ],
            "text/html": [
              "\n",
              "    <style>\n",
              "    pre {\n",
              "        white-space: pre-wrap;\n",
              "    }\n",
              "    </style>\n",
              "    "
            ]
          },
          "metadata": {}
        },
        {
          "output_type": "display_data",
          "data": {
            "text/plain": [
              "<IPython.core.display.HTML object>"
            ],
            "text/html": [
              "\n",
              "    <style>\n",
              "    pre {\n",
              "        white-space: pre-wrap;\n",
              "    }\n",
              "    </style>\n",
              "    "
            ]
          },
          "metadata": {}
        }
      ]
    },
    {
      "cell_type": "code",
      "source": [
        "def load_pdf(file_path: str) -> list:\n",
        "    \"\"\"\n",
        "    load a pdf into a list of pages / documents\n",
        "\n",
        "    Args:\n",
        "        file_path: HTTPS URL to PDF file\n",
        "\n",
        "    Returns:\n",
        "        list: Processed documents\n",
        "\n",
        "    Raises:\n",
        "        ValueError: If URL does not use HTTPS protocol\n",
        "    \"\"\"\n",
        "\n",
        "    try:\n",
        "        loader = PyPDFLoader(file_path)\n",
        "        # documentS because the single document is split into multiple documents\n",
        "        documents = loader.load()\n",
        "\n",
        "        return documents\n",
        "\n",
        "    finally:\n",
        "        if 'temp_path' in locals():\n",
        "            os.unlink(temp_path)"
      ],
      "metadata": {
        "id": "4DaWeVfvxoh2",
        "colab": {
          "base_uri": "https://localhost:8080/",
          "height": 17
        },
        "outputId": "716c581f-c1dc-4fda-ac4a-047f3185bb52"
      },
      "execution_count": null,
      "outputs": [
        {
          "output_type": "display_data",
          "data": {
            "text/plain": [
              "<IPython.core.display.HTML object>"
            ],
            "text/html": [
              "\n",
              "    <style>\n",
              "    pre {\n",
              "        white-space: pre-wrap;\n",
              "    }\n",
              "    </style>\n",
              "    "
            ]
          },
          "metadata": {}
        },
        {
          "output_type": "display_data",
          "data": {
            "text/plain": [
              "<IPython.core.display.HTML object>"
            ],
            "text/html": [
              "\n",
              "    <style>\n",
              "    pre {\n",
              "        white-space: pre-wrap;\n",
              "    }\n",
              "    </style>\n",
              "    "
            ]
          },
          "metadata": {}
        }
      ]
    },
    {
      "cell_type": "code",
      "source": [
        "def chunk_text(text: str, chunk_size: int = 1000, overlap: int = 100) -> List[str]:\n",
        "    \"\"\"\n",
        "    Splits text into overlapping chunks of specified size.\n",
        "\n",
        "    Args:\n",
        "        text (str): The input text to be chunked\n",
        "        chunk_size (int): Maximum size of each chunk in characters\n",
        "        overlap (int): Number of characters to overlap between chunks\n",
        "\n",
        "    Returns:\n",
        "        List[str]: List of text chunks\n",
        "    \"\"\"\n",
        "    # ... keeping the same chunking logic from wvsearch.py ...\n",
        "    chunks = []\n",
        "    start = 0\n",
        "    text_length = len(text)\n",
        "\n",
        "    while start < text_length:\n",
        "        end = start + chunk_size\n",
        "\n",
        "        if end < text_length:\n",
        "            next_period = text.find('.', end - 50, end + 50)\n",
        "            if next_period != -1:\n",
        "                end = next_period + 1\n",
        "            else:\n",
        "                next_space = text.find(' ', end)\n",
        "                if next_space != -1:\n",
        "                    end = next_space\n",
        "\n",
        "        chunks.append(text[start:end].strip())\n",
        "        start = end - overlap\n",
        "\n",
        "    return chunks"
      ],
      "metadata": {
        "id": "NxjcvkNLxKHB"
      },
      "execution_count": null,
      "outputs": []
    },
    {
      "cell_type": "code",
      "source": [
        "def search_weaviate(**kwargs):\n",
        "    \"\"\"\n",
        "    Search for documents using the vector store.\n",
        "\n",
        "    Args:\n",
        "        **kwargs: Keyword arguments\n",
        "            search_term (str): The search query text\n",
        "            metadata_filter (dict, optional): Dictionary of metadata key-value pairs to filter results\n",
        "            limit (int, optional): Maximum number of results to return (default: 10)\n",
        "\n",
        "    Returns:\n",
        "        list: List of search results with content and metadata\n",
        "    \"\"\"\n",
        "    search_term = kwargs.get('search_term')\n",
        "    limit = kwargs.get('limit', 10)\n",
        "    collection = kwargs.get('collection')\n",
        "    file_path = kwargs.get('file_path')\n",
        "\n",
        "    results = collection.query.near_text(\n",
        "        query=search_term,\n",
        "        limit=10,\n",
        "        filters=Filter.by_property(\"file_path\").equal(file_path)\n",
        "    )\n",
        "    return results"
      ],
      "metadata": {
        "id": "TQGJqgXEy5kp"
      },
      "execution_count": null,
      "outputs": []
    },
    {
      "cell_type": "code",
      "source": [
        "llmtest = call_gpt4(\"You are a helpful assistant.\", \"According to the Hitch Hikers Guide to the galaxy. What is the Answer to everything?\")\n",
        "print(llmtest)"
      ],
      "metadata": {
        "id": "H1eWCsI_sIe0"
      },
      "execution_count": null,
      "outputs": []
    },
    {
      "cell_type": "code",
      "source": [
        "wclient = get_weaviate_client()"
      ],
      "metadata": {
        "id": "JOyZilK-9deB",
        "colab": {
          "base_uri": "https://localhost:8080/",
          "height": 17
        },
        "outputId": "0d896601-e9bc-42ea-9844-7a286dd63c89"
      },
      "execution_count": null,
      "outputs": [
        {
          "output_type": "display_data",
          "data": {
            "text/plain": [
              "<IPython.core.display.HTML object>"
            ],
            "text/html": [
              "\n",
              "    <style>\n",
              "    pre {\n",
              "        white-space: pre-wrap;\n",
              "    }\n",
              "    </style>\n",
              "    "
            ]
          },
          "metadata": {}
        },
        {
          "output_type": "display_data",
          "data": {
            "text/plain": [
              "<IPython.core.display.HTML object>"
            ],
            "text/html": [
              "\n",
              "    <style>\n",
              "    pre {\n",
              "        white-space: pre-wrap;\n",
              "    }\n",
              "    </style>\n",
              "    "
            ]
          },
          "metadata": {}
        }
      ]
    },
    {
      "cell_type": "code",
      "source": [
        "collection_name=\"pdf\"\n",
        "init_pdf_collection(wclient, collection_name)"
      ],
      "metadata": {
        "colab": {
          "base_uri": "https://localhost:8080/",
          "height": 17
        },
        "id": "qIhWGjyGwZo6",
        "outputId": "a015f10f-abb6-4576-a33e-b2a2c2969043"
      },
      "execution_count": null,
      "outputs": [
        {
          "output_type": "display_data",
          "data": {
            "text/plain": [
              "<IPython.core.display.HTML object>"
            ],
            "text/html": [
              "\n",
              "    <style>\n",
              "    pre {\n",
              "        white-space: pre-wrap;\n",
              "    }\n",
              "    </style>\n",
              "    "
            ]
          },
          "metadata": {}
        },
        {
          "output_type": "display_data",
          "data": {
            "text/plain": [
              "<IPython.core.display.HTML object>"
            ],
            "text/html": [
              "\n",
              "    <style>\n",
              "    pre {\n",
              "        white-space: pre-wrap;\n",
              "    }\n",
              "    </style>\n",
              "    "
            ]
          },
          "metadata": {}
        }
      ]
    },
    {
      "cell_type": "code",
      "source": [
        "collection = wclient.collections.get(collection_name)"
      ],
      "metadata": {
        "id": "L_waUqLeHnoP"
      },
      "execution_count": null,
      "outputs": []
    },
    {
      "cell_type": "code",
      "source": [
        "file_path = \"/content/sample_data/paris.pdf\"\n",
        "ingest(file_path, collection)\n"
      ],
      "metadata": {
        "id": "sLZQsFaWmL9P"
      },
      "execution_count": null,
      "outputs": []
    },
    {
      "cell_type": "code",
      "source": [
        "results = search_weaviate(search_term=\"when did Paris become a tourist destination?\", collection=collection, file_path=file_path)\n",
        "llm_chunks=[]\n",
        "if results:\n",
        "    for i, chunk in enumerate(results.objects):\n",
        "      print(chunk.properties.get('content'))\n",
        "      llm_chunks.append(chunk.properties.get('content'))\n",
        "      print('----------------------------------')\n",
        "else:\n",
        "    print(\"No results found.\")"
      ],
      "metadata": {
        "id": "YGY_mLv60mVW"
      },
      "execution_count": null,
      "outputs": []
    },
    {
      "cell_type": "code",
      "source": [
        "answer = call_gpt4(\"You are a helpful assistant.\", \"When did Paris become a tourist destination?\",llm_chunks)\n",
        "print('')\n",
        "print(\"LLMS ANSWER -------------------\")\n",
        "print(answer)"
      ],
      "metadata": {
        "id": "c8cVh5BT7UNM"
      },
      "execution_count": null,
      "outputs": []
    },
    {
      "cell_type": "code",
      "source": [
        "await wclient._connection.close()"
      ],
      "metadata": {
        "id": "qzv7IMBJHSBh",
        "colab": {
          "base_uri": "https://localhost:8080/",
          "height": 17
        },
        "outputId": "d4c5641e-2e59-4355-d9e5-03392d277455"
      },
      "execution_count": null,
      "outputs": [
        {
          "output_type": "display_data",
          "data": {
            "text/plain": [
              "<IPython.core.display.HTML object>"
            ],
            "text/html": [
              "\n",
              "    <style>\n",
              "    pre {\n",
              "        white-space: pre-wrap;\n",
              "    }\n",
              "    </style>\n",
              "    "
            ]
          },
          "metadata": {}
        },
        {
          "output_type": "display_data",
          "data": {
            "text/plain": [
              "<IPython.core.display.HTML object>"
            ],
            "text/html": [
              "\n",
              "    <style>\n",
              "    pre {\n",
              "        white-space: pre-wrap;\n",
              "    }\n",
              "    </style>\n",
              "    "
            ]
          },
          "metadata": {}
        }
      ]
    }
  ]
}